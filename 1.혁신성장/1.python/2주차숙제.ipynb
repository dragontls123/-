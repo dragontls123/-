{
 "cells": [
  {
   "cell_type": "markdown",
   "metadata": {},
   "source": [
    "# 1"
   ]
  },
  {
   "cell_type": "code",
   "execution_count": 6,
   "metadata": {},
   "outputs": [],
   "source": [
    "def profile_to_dict(name,age,phone):\n",
    "    profile={\n",
    "        'name':name,\n",
    "        'age':age,\n",
    "        'phone':phone\n",
    "    }\n",
    "    return profile"
   ]
  },
  {
   "cell_type": "markdown",
   "metadata": {},
   "source": [
    "# 2"
   ]
  },
  {
   "cell_type": "code",
   "execution_count": 10,
   "metadata": {},
   "outputs": [],
   "source": [
    "def fibonacci(n):\n",
    "    if n==1:\n",
    "        return 1\n",
    "    if n==2:\n",
    "        return 1\n",
    "    return fibonacci(n-1)+fibonacci(n-2)"
   ]
  },
  {
   "cell_type": "code",
   "execution_count": 17,
   "metadata": {},
   "outputs": [
    {
     "data": {
      "text/plain": [
       "2"
      ]
     },
     "execution_count": 17,
     "metadata": {},
     "output_type": "execute_result"
    }
   ],
   "source": [
    "fibonacci(3)"
   ]
  },
  {
   "cell_type": "code",
   "execution_count": 20,
   "metadata": {},
   "outputs": [
    {
     "data": {
      "text/plain": [
       "3"
      ]
     },
     "execution_count": 20,
     "metadata": {},
     "output_type": "execute_result"
    }
   ],
   "source": [
    "fibonacci(4)"
   ]
  },
  {
   "cell_type": "code",
   "execution_count": 18,
   "metadata": {},
   "outputs": [
    {
     "data": {
      "text/plain": [
       "5"
      ]
     },
     "execution_count": 18,
     "metadata": {},
     "output_type": "execute_result"
    }
   ],
   "source": [
    "fibonacci(5)"
   ]
  },
  {
   "cell_type": "code",
   "execution_count": 19,
   "metadata": {},
   "outputs": [
    {
     "data": {
      "text/plain": [
       "8"
      ]
     },
     "execution_count": 19,
     "metadata": {},
     "output_type": "execute_result"
    }
   ],
   "source": [
    "fibonacci(6)"
   ]
  },
  {
   "cell_type": "markdown",
   "metadata": {},
   "source": [
    "# 3"
   ]
  },
  {
   "cell_type": "code",
   "execution_count": 21,
   "metadata": {},
   "outputs": [],
   "source": [
    "import requests\n",
    "from bs4 import BeautifulSoup"
   ]
  },
  {
   "cell_type": "code",
   "execution_count": 23,
   "metadata": {},
   "outputs": [],
   "source": [
    "url=\"https://search.naver.com/search.naver?&where=news&query=2020%EB%85%84&sm=tab_pge&sort=0&photo=0&field=0&reporter_article=&pd=0&ds=&de=&docid=&nso=so:r,p:all,a:all&mynews=0&cluster_rank=57&start=1&refresh_start=0\"\n",
    "url1=\"https://search.naver.com/search.naver?&where=news&query=2020%EB%85%84&sm=tab_pge&sort=0&photo=0&field=0&reporter_article=&pd=0&ds=&de=&docid=&nso=so:r,p:all,a:all&mynews=0&cluster_rank=86&start=11&refresh_start=0\""
   ]
  },
  {
   "cell_type": "code",
   "execution_count": 26,
   "metadata": {},
   "outputs": [],
   "source": [
    "resp=requests.get(url)\n",
    "soup=BeautifulSoup(resp.text)"
   ]
  },
  {
   "cell_type": "code",
   "execution_count": 108,
   "metadata": {
    "collapsed": true
   },
   "outputs": [
    {
     "data": {
      "text/plain": [
       "[<dt><a class=\"_sp_each_title\" href=\"http://www.fnnews.com/news/202006151058142947\" onclick=\"return goOtherCR(this, 'a=nws*a.tit&amp;r=58&amp;i=880000FF_000000000000000004443372&amp;g=014.0004443372&amp;u='+urlencode(this.href));\" target=\"_blank\" title=\"네오플, 2020년 신입 및 경력사원 공개채용 실시\">네오플, <strong class=\"hl\">2020년</strong> 신입 및 경력사원 공개채용 실시</a></dt>,\n",
       " <dt><a class=\"_sp_each_title\" href=\"https://www.zdnet.co.kr/view/?no=20200615101818\" onclick=\"return goOtherCR(this, 'a=nws*a.tit&amp;r=63&amp;i=8800011E_000000000000000002191146&amp;g=092.0002191146&amp;u='+urlencode(this.href));\" target=\"_blank\" title=\"던전앤파이터 키운 네오플, 2020년 신입 및 경력 사원 모집\">던전앤파이터 키운 네오플, <strong class=\"hl\">2020년</strong> 신입 및 경력 사원 모집</a></dt>,\n",
       " <dt><a class=\"_sp_each_title\" href=\"https://www.nocutnews.co.kr/news/5361085\" onclick=\"return goOtherCR(this, 'a=nws*a.tit&amp;r=68&amp;i=88000112_000000000000000003371869&amp;g=079.0003371869&amp;u='+urlencode(this.href));\" target=\"_blank\" title=\"네오플, 2020년 신입·경력 공개채용\">네오플, <strong class=\"hl\">2020년</strong> 신입·경력 공개채용</a></dt>,\n",
       " <dt><a class=\"_sp_each_url _sp_each_title\" href=\"http://www.ccnnews.co.kr/news/articleView.html?idxno=183618\" onclick=\"return goOtherCR(this, 'a=nws*b.tit&amp;r=73&amp;i=881842b1_000000000000000000057300&amp;g=5569.0000057300&amp;u='+urlencode(this.href));\" target=\"_blank\" title=\"KINS, '2020년 청렴호민관 발대식'\">KINS, '<strong class=\"hl\">2020년</strong> 청렴호민관 발대식'</a></dt>,\n",
       " <dt><a class=\"_sp_each_title\" href=\"http://yna.kr/PYH20200615156000013?did=1196m\" onclick=\"return goOtherCR(this, 'a=nws*a.tit&amp;r=75&amp;i=880000D8_000000000000000011678948&amp;g=001.0011678948&amp;u='+urlencode(this.href));\" target=\"_blank\" title=\"2020년 국방학술 세미나\"><strong class=\"hl\">2020년</strong> 국방학술 세미나</a></dt>,\n",
       " <dt><a class=\"_sp_each_url _sp_each_title\" href=\"http://www.nspna.com/news/?mode=view&amp;newsid=434835\" onclick=\"return goOtherCR(this, 'a=nws*b.tit&amp;r=77&amp;i=880003F1_000000000000000000411049&amp;g=5025.0000411049&amp;u='+urlencode(this.href));\" target=\"_blank\" title=\"시흥시, 2020년 농지원부 일제정비 추진\">시흥시, <strong class=\"hl\">2020년</strong> 농지원부 일제정비 추진</a></dt>,\n",
       " <dt><a class=\"_sp_each_url _sp_each_title\" href=\"http://www.todayenergy.kr/news/articleView.html?idxno=225934\" onclick=\"return goOtherCR(this, 'a=nws*b.tit&amp;r=79&amp;i=8813C2CC_000000000000000000062713&amp;g=5300.0000062713&amp;u='+urlencode(this.href));\" target=\"_blank\" title=\"석유公, 2020년 국가안전대진단 민관합동점검 실시\">석유公, <strong class=\"hl\">2020년</strong> 국가안전대진단 민관합동점검 실시</a></dt>,\n",
       " <dt><a class=\"_sp_each_url _sp_each_title\" href=\"http://www.kyeongin.com/main/view.php?key=20200615010003532\" onclick=\"return goOtherCR(this, 'a=nws*b.tit&amp;r=81&amp;i=88099088_000000000000000000840760&amp;g=5122.0000840760&amp;u='+urlencode(this.href));\" target=\"_blank\" title=\"강동대학교, 2020년 진로전담교사 워크숍 개최\">강동대학교, <strong class=\"hl\">2020년</strong> 진로전담교사 워크숍 개최</a></dt>,\n",
       " <dt><a class=\"_sp_each_url _sp_each_title\" href=\"http://www.shinailbo.co.kr/news/articleView.html?idxno=1288965\" onclick=\"return goOtherCR(this, 'a=nws*b.tit&amp;r=83&amp;i=88155e65_000000000000000000401169&amp;g=5364.0000401169&amp;u='+urlencode(this.href));\" target=\"_blank\" title=\"무안군, 2020년 제1기분 자동차세 34억3000만원 부과\">무안군, <strong class=\"hl\">2020년</strong> 제1기분 자동차세 34억3000만원 부과</a></dt>,\n",
       " <dt><a class=\"_sp_each_url _sp_each_title\" href=\"http://www.newsfreezone.co.kr/news/articleView.html?idxno=240134\" onclick=\"return goOtherCR(this, 'a=nws*b.tit&amp;r=85&amp;i=8817ca59_000000000000000000090251&amp;g=5551.0000090251&amp;u='+urlencode(this.href));\" target=\"_blank\" title=\"사천시, 2020년 1기분 자동차세 부과\">사천시, <strong class=\"hl\">2020년</strong> 1기분 자동차세 부과</a></dt>]"
      ]
     },
     "execution_count": 108,
     "metadata": {},
     "output_type": "execute_result"
    }
   ],
   "source": [
    "li=soup.select('ul.type01 li dt')\n",
    "result=[]\n",
    "li"
   ]
  },
  {
   "cell_type": "code",
   "execution_count": 109,
   "metadata": {},
   "outputs": [],
   "source": [
    "for l in li:\n",
    "    k=l.find('a')\n",
    "    result.append({\n",
    "        'title':k.get('title'),\n",
    "        'link':k.get('href')\n",
    "    })"
   ]
  },
  {
   "cell_type": "code",
   "execution_count": 111,
   "metadata": {
    "scrolled": false
   },
   "outputs": [],
   "source": [
    "url1=\"https://search.naver.com/search.naver?&where=news&query=2020%EB%85%84&sm=tab_pge&sort=0&photo=0&field=0&reporter_article=&pd=0&ds=&de=&docid=&nso=so:r,p:all,a:all&mynews=0&cluster_rank=86&start=11&refresh_start=0\"\n",
    "resp=requests.get(url)\n",
    "soup=BeautifulSoup(resp.text)\n",
    "li=soup.select('ul.type01 li dt')\n",
    "\n",
    "for l in li:\n",
    "    k=l.find('a')\n",
    "    result.append({\n",
    "        'title':k.get('title'),\n",
    "        'link':k.get('href')\n",
    "    })"
   ]
  },
  {
   "cell_type": "code",
   "execution_count": 112,
   "metadata": {
    "collapsed": true
   },
   "outputs": [
    {
     "data": {
      "text/plain": [
       "[{'title': '네오플, 2020년 신입 및 경력사원 공개채용 실시',\n",
       "  'link': 'http://www.fnnews.com/news/202006151058142947'},\n",
       " {'title': '던전앤파이터 키운 네오플, 2020년 신입 및 경력 사원 모집',\n",
       "  'link': 'https://www.zdnet.co.kr/view/?no=20200615101818'},\n",
       " {'title': '네오플, 2020년 신입·경력 공개채용',\n",
       "  'link': 'https://www.nocutnews.co.kr/news/5361085'},\n",
       " {'title': \"KINS, '2020년 청렴호민관 발대식'\",\n",
       "  'link': 'http://www.ccnnews.co.kr/news/articleView.html?idxno=183618'},\n",
       " {'title': '2020년 국방학술 세미나',\n",
       "  'link': 'http://yna.kr/PYH20200615156000013?did=1196m'},\n",
       " {'title': '시흥시, 2020년 농지원부 일제정비 추진',\n",
       "  'link': 'http://www.nspna.com/news/?mode=view&newsid=434835'},\n",
       " {'title': '석유公, 2020년 국가안전대진단 민관합동점검 실시',\n",
       "  'link': 'http://www.todayenergy.kr/news/articleView.html?idxno=225934'},\n",
       " {'title': '강동대학교, 2020년 진로전담교사 워크숍 개최',\n",
       "  'link': 'http://www.kyeongin.com/main/view.php?key=20200615010003532'},\n",
       " {'title': '무안군, 2020년 제1기분 자동차세 34억3000만원 부과',\n",
       "  'link': 'http://www.shinailbo.co.kr/news/articleView.html?idxno=1288965'},\n",
       " {'title': '사천시, 2020년 1기분 자동차세 부과',\n",
       "  'link': 'http://www.newsfreezone.co.kr/news/articleView.html?idxno=240134'},\n",
       " {'title': '네오플, 2020년 신입 및 경력사원 공개채용 실시',\n",
       "  'link': 'http://www.fnnews.com/news/202006151058142947'},\n",
       " {'title': '네오플, 2020년 신입·경력 공개채용',\n",
       "  'link': 'https://www.nocutnews.co.kr/news/5361085'},\n",
       " {'title': \"KINS, '2020년 청렴호민관 발대식'\",\n",
       "  'link': 'http://www.ccnnews.co.kr/news/articleView.html?idxno=183618'},\n",
       " {'title': '2020년 국방학술 세미나',\n",
       "  'link': 'http://yna.kr/PYH20200615156000013?did=1196m'},\n",
       " {'title': '석유公, 2020년 국가안전대진단 민관합동점검 실시',\n",
       "  'link': 'http://www.todayenergy.kr/news/articleView.html?idxno=225934'},\n",
       " {'title': '산청군 2020년 1기분 자동차세 부과·고지',\n",
       "  'link': 'http://www.newsfreezone.co.kr/news/articleView.html?idxno=240217'},\n",
       " {'title': '시흥시, 2020년 농지원부 일제정비 추진',\n",
       "  'link': 'http://www.kmaeil.com/news/articleView.html?idxno=227429'},\n",
       " {'title': '서산시 2020년 1기분 자동차세 81억원 부과',\n",
       "  'link': 'http://www.joongdo.co.kr/web/view.php?key=20200615010004895'},\n",
       " {'title': '강동대학교, 2020년 진로전담교사 워크숍 개최',\n",
       "  'link': 'http://www.kyeongin.com/main/view.php?key=20200615010003532'},\n",
       " {'title': '괴산군, 18일까지 2020년 시민수상구조대 모집',\n",
       "  'link': 'http://www.jbnews.com/news/articleView.html?idxno=1294626'}]"
      ]
     },
     "execution_count": 112,
     "metadata": {},
     "output_type": "execute_result"
    }
   ],
   "source": [
    "result"
   ]
  },
  {
   "cell_type": "markdown",
   "metadata": {},
   "source": [
    "# 4"
   ]
  },
  {
   "cell_type": "code",
   "execution_count": 144,
   "metadata": {},
   "outputs": [
    {
     "data": {
      "text/plain": [
       "[{'date': '2020.06.15', 'num': 693.15},\n",
       " {'date': '2020.06.12', 'num': 746.06},\n",
       " {'date': '2020.06.11', 'num': 757.06},\n",
       " {'date': '2020.06.10', 'num': 758.62},\n",
       " {'date': '2020.06.09', 'num': 753.82},\n",
       " {'date': '2020.06.08', 'num': 753.04}]"
      ]
     },
     "execution_count": 144,
     "metadata": {},
     "output_type": "execute_result"
    }
   ],
   "source": [
    "url=\"https://finance.naver.com/sise/sise_index_day.nhn?code=KOSDAQ\"\n",
    "resp=requests.get(url)\n",
    "soup=BeautifulSoup(resp.text)\n",
    "li=soup.select('div.box_type_m tr')\n",
    "kosdaq_result=[]\n",
    "\n",
    "for l in li:\n",
    "    if l.find('td',class_='date') is None:\n",
    "        continue\n",
    "    kosdaq_result.append({\n",
    "        'date':l.find('td',class_='date').text,\n",
    "        'num':float(l.find('td',class_='number_1').text)\n",
    "    })\n",
    "kosdaq_result"
   ]
  },
  {
   "cell_type": "code",
   "execution_count": 152,
   "metadata": {},
   "outputs": [
    {
     "data": {
      "text/plain": [
       "'2020.06.15'"
      ]
     },
     "execution_count": 152,
     "metadata": {},
     "output_type": "execute_result"
    }
   ],
   "source": [
    "kosdaq_result[0]['date']"
   ]
  },
  {
   "cell_type": "code",
   "execution_count": 239,
   "metadata": {},
   "outputs": [
    {
     "data": {
      "text/plain": [
       "[<matplotlib.lines.Line2D at 0x1e5734664c8>]"
      ]
     },
     "execution_count": 239,
     "metadata": {},
     "output_type": "execute_result"
    },
    {
     "data": {
      "image/png": "[encoded data removed]",
      "text/plain": [
       "<Figure size 432x288 with 1 Axes>"
      ]
     },
     "metadata": {
      "needs_background": "light"
     },
     "output_type": "display_data"
    }
   ],
   "source": [
    "import matplotlib.pyplot as plt\n",
    "kon=[kosdaq_result]\n",
    "ko=[kon[0][0]['num'],kon[0][1]['num'],kon[0][2]['num'],kon[0][3]['num'],kon[0][4]['num'],kon[0][5]['num']]\n",
    "kod=[kon[0][0]['date'],kon[0][1]['date'],kon[0][2]['date'],kon[0][3]['date'],kon[0][4]['date'],kon[0][5]['date']]\n",
    "plt.plot(kod,ko)"
   ]
  },
  {
   "cell_type": "code",
   "execution_count": null,
   "metadata": {},
   "outputs": [],
   "source": []
  },
  {
   "cell_type": "code",
   "execution_count": null,
   "metadata": {},
   "outputs": [],
   "source": []
  },
  {
   "cell_type": "code",
   "execution_count": null,
   "metadata": {},
   "outputs": [],
   "source": []
  }
 ],
 "metadata": {
  "kernelspec": {
   "display_name": "Python 3",
   "language": "python",
   "name": "python3"
  },
  "language_info": {
   "codemirror_mode": {
    "name": "ipython",
    "version": 3
   },
   "file_extension": ".py",
   "mimetype": "text/x-python",
   "name": "python",
   "nbconvert_exporter": "python",
   "pygments_lexer": "ipython3",
   "version": "3.7.6"
  }
 },
 "nbformat": 4,
 "nbformat_minor": 4
}
