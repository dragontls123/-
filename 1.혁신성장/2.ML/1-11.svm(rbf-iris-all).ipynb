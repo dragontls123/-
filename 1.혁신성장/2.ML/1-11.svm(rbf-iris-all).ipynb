{
 "cells": [
  {
   "cell_type": "code",
   "execution_count": 1,
   "metadata": {},
   "outputs": [
    {
     "name": "stdout",
     "output_type": "stream",
     "text": [
      "Optimal gamma = 0.10\n",
      "optimal C = 0.50\n",
      "optimal Accuracy = 1.00\n",
      "\n",
      "* 학습용 데이터로 측정한 정확도 = 0.96\n",
      "* 시험용 데이터로 측정한 정확도 = 1.00\n"
     ]
    }
   ],
   "source": [
    "# linear-SVM으로 iris 데이터를 학습한다.\n",
    "# -------------------------------------\n",
    "import matplotlib.pyplot as plt\n",
    "from sklearn.datasets import load_iris\n",
    "from sklearn.model_selection import train_test_split\n",
    "from sklearn.svm import SVC\n",
    "import numpy as np\n",
    "\n",
    "iris = load_iris()\n",
    "x = iris.data\n",
    "y = iris.target\n",
    "\n",
    "# Train 데이터 세트와 Test 데이터 세트를 구성한다\n",
    "trainX, testX, trainY, testY = train_test_split(x, y, test_size = 0.2)\n",
    "\n",
    "# gamma와 C의 조합을 바꿔가면서 학습 데이터의 정확도가 최대인 조합을 찾는다\n",
    "optAcc = -999\n",
    "optG = 0\n",
    "optC = 0\n",
    "for gamma in np.arange(0.1, 5.0, 0.1):\n",
    "    for c in np.arange(0.1, 5.0, 0.1):\n",
    "        model = SVC(kernel='rbf', gamma=gamma, C=c)\n",
    "        model.fit(trainX, trainY)\n",
    "        acc = model.score(testX, testY)\n",
    "        \n",
    "        if acc > optAcc:\n",
    "            optG = gamma\n",
    "            optC = c\n",
    "            optAcc = acc\n",
    "\n",
    "print('Optimal gamma = %.2f' % optG)\n",
    "print('optimal C = %.2f' % optC)\n",
    "print('optimal Accuracy = %.2f' % optAcc)\n",
    "\n",
    "# 최적 조건으로 학습한 결과를 확인한다.\n",
    "model = SVC(kernel='rbf', gamma=optG, C=optC)\n",
    "model.fit(trainX, trainY)\n",
    "\n",
    "# Test 세트의 Feature에 대한 class를 추정하고, 정확도를 계산한다\n",
    "print()\n",
    "print(\"* 학습용 데이터로 측정한 정확도 = %.2f\" % model.score(trainX, trainY))\n",
    "print(\"* 시험용 데이터로 측정한 정확도 = %.2f\" % model.score(testX, testY))\n",
    "\n",
    "\n"
   ]
  }
 ],
 "metadata": {
  "kernelspec": {
   "display_name": "Python 3",
   "language": "python",
   "name": "python3"
  },
  "language_info": {
   "codemirror_mode": {
    "name": "ipython",
    "version": 3
   },
   "file_extension": ".py",
   "mimetype": "text/x-python",
   "name": "python",
   "nbconvert_exporter": "python",
   "pygments_lexer": "ipython3",
   "version": "3.7.6"
  }
 },
 "nbformat": 4,
 "nbformat_minor": 4
}
