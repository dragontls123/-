{
 "cells": [
  {
   "cell_type": "code",
   "execution_count": 1,
   "metadata": {},
   "outputs": [
    {
     "name": "stdout",
     "output_type": "stream",
     "text": [
      "\n",
      "* Gaussian model :\n",
      "* 학습용 데이터로 측정한 정확도 = 0.95\n",
      "* 시험용 데이터로 측정한 정확도 = 1.00\n"
     ]
    },
    {
     "data": {
      "text/plain": [
       "array([[0.11474123, 0.14448543, 0.03353956, 0.01225461],\n",
       "       [0.26604866, 0.10481263, 0.24076266, 0.04510191],\n",
       "       [0.4071    , 0.105275  , 0.283875  , 0.08144375]])"
      ]
     },
     "execution_count": 1,
     "metadata": {},
     "output_type": "execute_result"
    }
   ],
   "source": [
    "# Naive Bayes로 credit 데이터를 학습한다.\n",
    "# feature들이 모두 실숫값이므로 gaussian model을 사용한다.\n",
    "# ------------------------------------------------------\n",
    "from sklearn.datasets import load_iris\n",
    "from sklearn.model_selection import train_test_split\n",
    "from sklearn.naive_bayes import GaussianNB\n",
    "\n",
    "# iris data set을 읽어온다\n",
    "iris = load_iris()\n",
    "\n",
    "# Train 데이터 세트와 Test 데이터 세트를 구성한다\n",
    "trainX, testX, trainY, testY = \\\n",
    "    train_test_split(iris.data, iris.target, test_size = 0.2)\n",
    "\n",
    "# Gaussian model로 Train 데이터 세트를 학습한다.\n",
    "modelG = GaussianNB()\n",
    "modelG.fit(trainX, trainY)\n",
    "\n",
    "print(\"\\n* Gaussian model :\")\n",
    "print(\"* 학습용 데이터로 측정한 정확도 = %.2f\" % modelG.score(trainX, trainY))\n",
    "print(\"* 시험용 데이터로 측정한 정확도 = %.2f\" % modelG.score(testX, testY))\n",
    "\n",
    "# number of training samples observed in each class.\n",
    "modelG.class_count_\n",
    "\n",
    "# 평균, 표준편차\n",
    "modelG.theta_\n",
    "modelG.sigma_\n"
   ]
  }
 ],
 "metadata": {
  "kernelspec": {
   "display_name": "Python 3",
   "language": "python",
   "name": "python3"
  },
  "language_info": {
   "codemirror_mode": {
    "name": "ipython",
    "version": 3
   },
   "file_extension": ".py",
   "mimetype": "text/x-python",
   "name": "python",
   "nbconvert_exporter": "python",
   "pygments_lexer": "ipython3",
   "version": "3.7.6"
  }
 },
 "nbformat": 4,
 "nbformat_minor": 4
}
