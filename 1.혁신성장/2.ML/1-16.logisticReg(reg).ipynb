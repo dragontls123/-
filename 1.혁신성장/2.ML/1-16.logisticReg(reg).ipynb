{
 "cells": [
  {
   "cell_type": "code",
   "execution_count": 1,
   "metadata": {},
   "outputs": [
    {
     "data": {
      "image/png": "[encoded data removed]",
      "text/plain": [
       "<Figure size 576x360 with 1 Axes>"
      ]
     },
     "metadata": {
      "needs_background": "light"
     },
     "output_type": "display_data"
    }
   ],
   "source": [
    "# Logistic Regression으로 iris 데이터를 학습한다.\n",
    "# multi class classification (class = [0, 1, 2]) &\n",
    "# Regularization\n",
    "# ------------------------------------------------\n",
    "from sklearn.datasets import load_iris\n",
    "from sklearn.model_selection import train_test_split\n",
    "from sklearn.linear_model import LogisticRegression\n",
    "import matplotlib.pyplot as plt\n",
    "import numpy as np\n",
    "\n",
    "iris = load_iris()\n",
    "\n",
    "# Train 데이터 세트와 Test 데이터 세트를 구성한다\n",
    "x = iris.data\n",
    "y = iris.target\n",
    "trainX, testX, trainY, testY = train_test_split(x, y, test_size = 0.2)\n",
    "\n",
    "# C를 변화시켜가면서 정확도를 측정해 본다\n",
    "testAcc = []\n",
    "trainAcc = []\n",
    "rangeC = np.arange(0.001, 1.0, 0.01)\n",
    "for C in rangeC:\n",
    "    # Logistic Regression으로 Train 데이터 세트를 학습한다.\n",
    "    model = LogisticRegression(penalty='l2', C=C, max_iter=500)\n",
    "    model.fit(trainX, trainY)\n",
    "    \n",
    "    # Test 세트의 Feature에 대한 정확도\n",
    "    predY = model.predict(testX)\n",
    "    testAcc.append((testY == predY).mean())\n",
    "\n",
    "    # Train 세트의 Feature에 대한 정확도\n",
    "    predY = model.predict(trainX)\n",
    "    trainAcc.append((trainY == predY).mean())\n",
    "\n",
    "plt.figure(figsize=(8, 5))\n",
    "plt.plot(rangeC, testAcc, label=\"Test Data\")\n",
    "plt.plot(rangeC, trainAcc, label=\"Train Data\")\n",
    "plt.legend()\n",
    "plt.xlabel(\"C\")\n",
    "plt.ylabel(\"Accuracy\")\n",
    "plt.show()\n",
    "\n",
    "\n"
   ]
  }
 ],
 "metadata": {
  "kernelspec": {
   "display_name": "Python 3",
   "language": "python",
   "name": "python3"
  },
  "language_info": {
   "codemirror_mode": {
    "name": "ipython",
    "version": 3
   },
   "file_extension": ".py",
   "mimetype": "text/x-python",
   "name": "python",
   "nbconvert_exporter": "python",
   "pygments_lexer": "ipython3",
   "version": "3.7.6"
  }
 },
 "nbformat": 4,
 "nbformat_minor": 4
}
