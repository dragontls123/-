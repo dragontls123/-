{
 "cells": [
  {
   "cell_type": "code",
   "execution_count": 1,
   "metadata": {},
   "outputs": [
    {
     "name": "stdout",
     "output_type": "stream",
     "text": [
      "\n",
      "* 학습용 데이터로 측정한 정확도 = 0.98\n",
      "* 시험용 데이터로 측정한 정확도 = 0.97\n",
      "\n",
      "w :\n",
      "[[-0.44847883  0.89136976 -2.42118915 -1.01961416]\n",
      " [ 0.55549792 -0.27247455 -0.28431031 -0.69320667]\n",
      " [-0.10701909 -0.61889521  2.70549946  1.71282083]]\n",
      "\n",
      "b :\n",
      "[  9.76596235   1.90923866 -11.67520101]\n",
      "\n",
      "class :\n",
      "[0 1 2]\n",
      "\n",
      "textX[0] = [6.7 3.  5.2 2.3] 의 class :\n",
      "prob =  [8.40540577e-05 1.17284157e-01 8.82631789e-01]\n",
      "prob =  [8.40540577e-05 1.17284157e-01 8.82631789e-01]\n"
     ]
    }
   ],
   "source": [
    "# Logistic Regression으로 iris 데이터를 학습한다.\n",
    "# multi class classification (class = [0, 1, 2])\n",
    "# ----------------------------------------------\n",
    "from sklearn.datasets import load_iris\n",
    "from sklearn.model_selection import train_test_split\n",
    "from sklearn.linear_model import LogisticRegression\n",
    "import numpy as np\n",
    "\n",
    "iris = load_iris()\n",
    "\n",
    "# Train 데이터 세트와 Test 데이터 세트를 구성한다\n",
    "x = iris.data\n",
    "y = iris.target\n",
    "trainX, testX, trainY, testY = train_test_split(x, y, test_size = 0.2)\n",
    "\n",
    "# Logistic Regression으로 Train 데이터 세트를 학습한다.\n",
    "model = LogisticRegression(max_iter=500)\n",
    "model.fit(trainX, trainY)\n",
    "\n",
    "# Test 세트의 Feature에 대한 class를 추정하고, 정확도를 계산한다\n",
    "print()\n",
    "print(\"* 학습용 데이터로 측정한 정확도 = %.2f\" % model.score(trainX, trainY))\n",
    "print(\"* 시험용 데이터로 측정한 정확도 = %.2f\" % model.score(testX, testY))\n",
    "\n",
    "print('\\nw :')\n",
    "print(model.coef_)\n",
    "print('\\nb :')\n",
    "print(model.intercept_)\n",
    "print('\\nclass :')\n",
    "print(model.classes_)\n",
    "\n",
    "# textX[0]의 class를 추정한다.\n",
    "model.predict(testX)[0]\n",
    "print('\\ntextX[0] =', testX[0], '의 class :')\n",
    "print('prob = ', model.predict_proba(testX[0].reshape(1,-1))[0])\n",
    "\n",
    "# manual로 testX[0]의 class를 추정해 본다. 각 파라메터의 기능을 확인한다.\n",
    "output = np.dot(model.coef_, testX[0]) + model.intercept_\n",
    "\n",
    "e = np.exp(output)\n",
    "print('prob = ', e / np.sum(e))\n",
    "\n"
   ]
  }
 ],
 "metadata": {
  "kernelspec": {
   "display_name": "Python 3",
   "language": "python",
   "name": "python3"
  },
  "language_info": {
   "codemirror_mode": {
    "name": "ipython",
    "version": 3
   },
   "file_extension": ".py",
   "mimetype": "text/x-python",
   "name": "python",
   "nbconvert_exporter": "python",
   "pygments_lexer": "ipython3",
   "version": "3.7.6"
  }
 },
 "nbformat": 4,
 "nbformat_minor": 4
}
