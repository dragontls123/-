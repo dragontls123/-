{
 "cells": [
  {
   "cell_type": "code",
   "execution_count": 1,
   "metadata": {},
   "outputs": [
    {
     "name": "stdout",
     "output_type": "stream",
     "text": [
      "\n",
      "* 회귀직선의 방정식 (OLS) : y = 0.1008 * x +  0.2967\n"
     ]
    },
    {
     "data": {
      "image/png": "[encoded data removed]",
      "text/plain": [
       "<Figure size 360x360 with 1 Axes>"
      ]
     },
     "metadata": {
      "needs_background": "light"
     },
     "output_type": "display_data"
    },
    {
     "name": "stdout",
     "output_type": "stream",
     "text": [
      "\n",
      "시험 데이터 전체 오류 (R2-score) = 0.5032\n",
      "R-square = 0.5032\n"
     ]
    }
   ],
   "source": [
    "# 1차원 데이터로 Linear Regression 기능을 연습한다.\n",
    "# ------------------------------------------------\n",
    "import numpy as np\n",
    "import matplotlib.pyplot as plt\n",
    "from sklearn.linear_model import LinearRegression\n",
    "\n",
    "# 샘플 데이터 1,000개를 생성한다\n",
    "# y = ax + b + e\n",
    "def createData(a, b, n):\n",
    "   resultX = []\n",
    "   resultY = []\n",
    "   for i in range(n):\n",
    "       x = np.random.normal(0.0, 0.5)\n",
    "       y = a * x + b + np.random.normal(0.0, 0.05)\n",
    "       resultX.append(x)\n",
    "       resultY.append(y)\n",
    "       \n",
    "   return np.array(resultX).reshape(-1,1), np.array(resultY).reshape(-1,1)\n",
    "\n",
    "# Train 데이터 세트와 Test 데이터 세트를 구성한다\n",
    "X, Y = createData(0.1, 0.3, 1000) # y = 0.1x + 0.3 + e\n",
    "\n",
    "# Logistic Regression으로 Train 데이터 세트를 학습한다.\n",
    "model = LinearRegression()\n",
    "model.fit(X, Y)\n",
    "\n",
    "# 결과를 확인한다\n",
    "a = model.coef_[0][0]\n",
    "b = model.intercept_[0]\n",
    "print(\"\\n* 회귀직선의 방정식 (OLS) : y = %.4f * x +  %.4f\" % (a, b))\n",
    "yHat =  model.predict(X)\n",
    "\n",
    "fig = plt.figure(figsize=(5, 5))\n",
    "plt.plot(X, Y, 'ro', markersize=1.5)\n",
    "plt.plot(X, yHat)\n",
    "plt.show()\n",
    "\n",
    "# 시험 데이터 전체의 오류를 R-square로 표시한다.\n",
    "print('\\n시험 데이터 전체 오류 (R2-score) = %.4f' % model.score(X, Y))\n",
    "\n",
    "# R-square를 manual로 계산하고, model.score() 결과와 비교한다.\n",
    "# SSE : explained sum of square\n",
    "# SSR : residual sum of square (not explained)\n",
    "# SST : total sum of square\n",
    "# R-square : SSE / SST or 1 - (SSR / SST)\n",
    "ssr = np.sum(np.square(yHat - Y))\n",
    "sst = np.sum(np.square(Y - Y.mean()))\n",
    "R2 = 1 - ssr / sst\n",
    "print('R-square = %.4f' % R2)\n",
    "\n"
   ]
  }
 ],
 "metadata": {
  "kernelspec": {
   "display_name": "Python 3",
   "language": "python",
   "name": "python3"
  },
  "language_info": {
   "codemirror_mode": {
    "name": "ipython",
    "version": 3
   },
   "file_extension": ".py",
   "mimetype": "text/x-python",
   "name": "python",
   "nbconvert_exporter": "python",
   "pygments_lexer": "ipython3",
   "version": "3.7.6"
  }
 },
 "nbformat": 4,
 "nbformat_minor": 4
}
