{
 "cells": [
  {
   "cell_type": "code",
   "execution_count": 4,
   "metadata": {},
   "outputs": [
    {
     "name": "stdout",
     "output_type": "stream",
     "text": [
      "\n",
      "시험 데이터 전체 오류 (rmse) = 4.4623\n",
      "\n",
      "시험 데이터 전체 오류 (R2-score) = 0.6957\n",
      "R-square = 0.6957\n"
     ]
    }
   ],
   "source": [
    "# Linear Regression으로 Boston Housing 데이터를 학습한다.\n",
    "# ------------------------------------------------------\n",
    "import numpy as np\n",
    "from sklearn.datasets import load_boston\n",
    "from sklearn.model_selection import train_test_split\n",
    "from sklearn.linear_model import LinearRegression\n",
    "from sklearn.metrics import mean_squared_error\n",
    "\n",
    "# Boston housing data set을 읽어온다\n",
    "boston = load_boston()\n",
    "\n",
    "# Train 데이터 세트와 Test 데이터 세트를 구성한다\n",
    "x = boston.data\n",
    "y = boston.target\n",
    "\n",
    "\n",
    "trainX, testX, trainY, testY = train_test_split(x, y, test_size = 0.2)\n",
    "\n",
    "# Logistic Regression으로 Train 데이터 세트를 학습한다.\n",
    "\n",
    "model = LinearRegression()\n",
    "model.fit(trainX, trainY)\n",
    "\n",
    "# testX[n]에 해당하는 target (price)을 추정한다.\n",
    "\n",
    "n = 1\n",
    "price = model.predict(testX[n].reshape(1,-1))\n",
    "# print('test[%d]의 추정 price = %.2f' % (n, price))\n",
    "# print('test[%d]의 실제 price = %.2f' % (n, testY[n]))\n",
    "# print('추정 오류 = rmse(추정 price - 실제 price) = %.2f' % np.sqrt(np.square(price - testY[n])))\n",
    "\n",
    "# 시험 데이터 전체의 오류를 MSE로 표시한다.\n",
    "# MSE는 값의 범위가 크다는 단점이 있다.\n",
    "predY = model.predict(testX)\n",
    "rmse = (np.sqrt(mean_squared_error(testY, predY)))\n",
    "print('\\n시험 데이터 전체 오류 (rmse) = %.4f' % rmse)\n",
    "\n",
    "# 시험 데이터 전체의 오류를 R-square로 표시한다.\n",
    "# 범위가 한정되어 MSE보다 좋은 척도다.\n",
    "print('\\n시험 데이터 전체 오류 (R2-score) = %.4f' % model.score(testX, testY))\n",
    "  \n",
    "    \n",
    "# R-square를 manual로 계산하고, model.score() 결과와 비교한다.\n",
    "# SSE : explained sum of square\n",
    "# SSR : residual sum of square (not explained)\n",
    "# SST : total sum of square\n",
    "# R-square : SSE / SST or 1 - (SSR / SST)\n",
    "ssr = np.sum(np.square(predY - testY))\n",
    "sst = np.sum(np.square(testY - testY.mean()))\n",
    "R2 = 1 - ssr / sst\n",
    "print('R-square = %.4f' % R2)\n",
    "\n"
   ]
  }
 ],
 "metadata": {
  "kernelspec": {
   "display_name": "Python 3",
   "language": "python",
   "name": "python3"
  },
  "language_info": {
   "codemirror_mode": {
    "name": "ipython",
    "version": 3
   },
   "file_extension": ".py",
   "mimetype": "text/x-python",
   "name": "python",
   "nbconvert_exporter": "python",
   "pygments_lexer": "ipython3",
   "version": "3.7.6"
  }
 },
 "nbformat": 4,
 "nbformat_minor": 4
}
